{
 "cells": [
  {
   "cell_type": "markdown",
   "metadata": {},
   "source": [
    "# 项目四-探索数据集\n",
    "### 选择数据集-泰坦尼克号数据"
   ]
  },
  {
   "cell_type": "markdown",
   "metadata": {},
   "source": [
    "#### 一、提出问题\n",
    "*有哪些因素影响了船上人员的生还率？*  \n",
    "舱位等级、性别、年龄等单一因素，或是多个因素关联影响？  "
   ]
  },
  {
   "cell_type": "markdown",
   "metadata": {},
   "source": [
    "#### 二、数据加工"
   ]
  },
  {
   "cell_type": "code",
   "execution_count": 14,
   "metadata": {},
   "outputs": [],
   "source": [
    "#导入函数库\n",
    "import numpy as np\n",
    "import pandas as pd\n",
    "import matplotlib.pyplot as plt\n",
    "%matplotlib inline"
   ]
  },
  {
   "cell_type": "code",
   "execution_count": 15,
   "metadata": {},
   "outputs": [],
   "source": [
    "#文件导入\n",
    "titanic_df = pd.read_csv('titanic-data.csv')"
   ]
  },
  {
   "cell_type": "markdown",
   "metadata": {},
   "source": [
    ">数据检测"
   ]
  },
  {
   "cell_type": "code",
   "execution_count": 16,
   "metadata": {},
   "outputs": [
    {
     "data": {
      "text/html": [
       "<div>\n",
       "<style scoped>\n",
       "    .dataframe tbody tr th:only-of-type {\n",
       "        vertical-align: middle;\n",
       "    }\n",
       "\n",
       "    .dataframe tbody tr th {\n",
       "        vertical-align: top;\n",
       "    }\n",
       "\n",
       "    .dataframe thead th {\n",
       "        text-align: right;\n",
       "    }\n",
       "</style>\n",
       "<table border=\"1\" class=\"dataframe\">\n",
       "  <thead>\n",
       "    <tr style=\"text-align: right;\">\n",
       "      <th></th>\n",
       "      <th>PassengerId</th>\n",
       "      <th>Survived</th>\n",
       "      <th>Pclass</th>\n",
       "      <th>Name</th>\n",
       "      <th>Sex</th>\n",
       "      <th>Age</th>\n",
       "      <th>SibSp</th>\n",
       "      <th>Parch</th>\n",
       "      <th>Ticket</th>\n",
       "      <th>Fare</th>\n",
       "      <th>Cabin</th>\n",
       "      <th>Embarked</th>\n",
       "    </tr>\n",
       "  </thead>\n",
       "  <tbody>\n",
       "    <tr>\n",
       "      <th>0</th>\n",
       "      <td>1</td>\n",
       "      <td>0</td>\n",
       "      <td>3</td>\n",
       "      <td>Braund, Mr. Owen Harris</td>\n",
       "      <td>male</td>\n",
       "      <td>22.0</td>\n",
       "      <td>1</td>\n",
       "      <td>0</td>\n",
       "      <td>A/5 21171</td>\n",
       "      <td>7.2500</td>\n",
       "      <td>NaN</td>\n",
       "      <td>S</td>\n",
       "    </tr>\n",
       "    <tr>\n",
       "      <th>1</th>\n",
       "      <td>2</td>\n",
       "      <td>1</td>\n",
       "      <td>1</td>\n",
       "      <td>Cumings, Mrs. John Bradley (Florence Briggs Th...</td>\n",
       "      <td>female</td>\n",
       "      <td>38.0</td>\n",
       "      <td>1</td>\n",
       "      <td>0</td>\n",
       "      <td>PC 17599</td>\n",
       "      <td>71.2833</td>\n",
       "      <td>C85</td>\n",
       "      <td>C</td>\n",
       "    </tr>\n",
       "    <tr>\n",
       "      <th>2</th>\n",
       "      <td>3</td>\n",
       "      <td>1</td>\n",
       "      <td>3</td>\n",
       "      <td>Heikkinen, Miss. Laina</td>\n",
       "      <td>female</td>\n",
       "      <td>26.0</td>\n",
       "      <td>0</td>\n",
       "      <td>0</td>\n",
       "      <td>STON/O2. 3101282</td>\n",
       "      <td>7.9250</td>\n",
       "      <td>NaN</td>\n",
       "      <td>S</td>\n",
       "    </tr>\n",
       "    <tr>\n",
       "      <th>3</th>\n",
       "      <td>4</td>\n",
       "      <td>1</td>\n",
       "      <td>1</td>\n",
       "      <td>Futrelle, Mrs. Jacques Heath (Lily May Peel)</td>\n",
       "      <td>female</td>\n",
       "      <td>35.0</td>\n",
       "      <td>1</td>\n",
       "      <td>0</td>\n",
       "      <td>113803</td>\n",
       "      <td>53.1000</td>\n",
       "      <td>C123</td>\n",
       "      <td>S</td>\n",
       "    </tr>\n",
       "    <tr>\n",
       "      <th>4</th>\n",
       "      <td>5</td>\n",
       "      <td>0</td>\n",
       "      <td>3</td>\n",
       "      <td>Allen, Mr. William Henry</td>\n",
       "      <td>male</td>\n",
       "      <td>35.0</td>\n",
       "      <td>0</td>\n",
       "      <td>0</td>\n",
       "      <td>373450</td>\n",
       "      <td>8.0500</td>\n",
       "      <td>NaN</td>\n",
       "      <td>S</td>\n",
       "    </tr>\n",
       "  </tbody>\n",
       "</table>\n",
       "</div>"
      ],
      "text/plain": [
       "   PassengerId  Survived  Pclass  \\\n",
       "0            1         0       3   \n",
       "1            2         1       1   \n",
       "2            3         1       3   \n",
       "3            4         1       1   \n",
       "4            5         0       3   \n",
       "\n",
       "                                                Name     Sex   Age  SibSp  \\\n",
       "0                            Braund, Mr. Owen Harris    male  22.0      1   \n",
       "1  Cumings, Mrs. John Bradley (Florence Briggs Th...  female  38.0      1   \n",
       "2                             Heikkinen, Miss. Laina  female  26.0      0   \n",
       "3       Futrelle, Mrs. Jacques Heath (Lily May Peel)  female  35.0      1   \n",
       "4                           Allen, Mr. William Henry    male  35.0      0   \n",
       "\n",
       "   Parch            Ticket     Fare Cabin Embarked  \n",
       "0      0         A/5 21171   7.2500   NaN        S  \n",
       "1      0          PC 17599  71.2833   C85        C  \n",
       "2      0  STON/O2. 3101282   7.9250   NaN        S  \n",
       "3      0            113803  53.1000  C123        S  \n",
       "4      0            373450   8.0500   NaN        S  "
      ]
     },
     "execution_count": 16,
     "metadata": {},
     "output_type": "execute_result"
    }
   ],
   "source": [
    "titanic_df.head()"
   ]
  },
  {
   "cell_type": "code",
   "execution_count": 17,
   "metadata": {},
   "outputs": [
    {
     "name": "stdout",
     "output_type": "stream",
     "text": [
      "<class 'pandas.core.frame.DataFrame'>\n",
      "Int64Index: 712 entries, 0 to 890\n",
      "Data columns (total 12 columns):\n",
      "PassengerId    712 non-null int64\n",
      "Survived       712 non-null int64\n",
      "Pclass         712 non-null int64\n",
      "Name           712 non-null object\n",
      "Sex            712 non-null object\n",
      "Age            712 non-null float64\n",
      "SibSp          712 non-null int64\n",
      "Parch          712 non-null int64\n",
      "Ticket         712 non-null object\n",
      "Fare           712 non-null float64\n",
      "Cabin          183 non-null object\n",
      "Embarked       712 non-null object\n",
      "dtypes: float64(2), int64(5), object(5)\n",
      "memory usage: 72.3+ KB\n"
     ]
    }
   ],
   "source": [
    "titanic_df.dropna(subset=['Age', 'Embarked'], inplace=True)#剔除无效数据\n",
    "titanic_df.info()"
   ]
  },
  {
   "cell_type": "markdown",
   "metadata": {},
   "source": [
    ">数据处理"
   ]
  },
  {
   "cell_type": "code",
   "execution_count": 18,
   "metadata": {},
   "outputs": [],
   "source": [
    "#绘制图形\n",
    "def plot_charting(data, kd, title, x, y, stack=0):\n",
    "    '''\n",
    "    data:图标数据\n",
    "    kd:图形类型\n",
    "    title:标题\n",
    "    x:x轴名称\n",
    "    y:y轴名称\n",
    "    '''\n",
    "    #绘制图形\n",
    "    if stack==1:\n",
    "        data.unstack().plot(kind=kd)\n",
    "    else:\n",
    "        if kd=='pie':\n",
    "            data.plot(kind=kd, subplots=True)\n",
    "        else:\n",
    "            data.plot(kind=kd)\n",
    "    plt.title(title)\n",
    "    plt.xlabel(x)\n",
    "    plt.ylabel(y)\n",
    "    plt.show()"
   ]
  },
  {
   "cell_type": "code",
   "execution_count": 19,
   "metadata": {},
   "outputs": [],
   "source": [
    "#获取统计结果\n",
    "def get_statistics_result(group_df, columns):\n",
    "    '''\n",
    "    group_df:分组列表\n",
    "    columns:重组后的列名\n",
    "    '''\n",
    "    group_num = group_df.sum()\n",
    "    #总人数\n",
    "    all_num = group_df.count()\n",
    "    #存活率\n",
    "    survival_rate = group_num / all_num\n",
    "    #合并数据列表并输出\n",
    "    result = pd.concat([group_num, all_num, survival_rate], axis=1)\n",
    "    result.columns = columns\n",
    "    #打印结果\n",
    "    print(result)\n",
    "    return survival_rate"
   ]
  },
  {
   "cell_type": "code",
   "execution_count": 20,
   "metadata": {},
   "outputs": [],
   "source": [
    "#获取结果数据(单因素)\n",
    "def get_result_with_one_factor(factor, kd):\n",
    "    '''\n",
    "    参数：\n",
    "    factor:因素字段\n",
    "    kd:图表类型\n",
    "    '''\n",
    "    #重组并去除无效数据\n",
    "    survived_df = titanic_df[[factor, 'Survived']]\n",
    "    #分组统计人数\n",
    "    group_df = survived_df.groupby(factor)\n",
    "    #统计结果\n",
    "    survival_rate = get_statistics_result(group_df, ['survived','total','survival rate'])\n",
    "    #绘图\n",
    "    plot_charting(survival_rate, kd, factor + ' Survival rate', 'factor-' + factor, 'rate')"
   ]
  },
  {
   "cell_type": "code",
   "execution_count": 21,
   "metadata": {
    "scrolled": false
   },
   "outputs": [],
   "source": [
    "#获取结果数据(双因素)\n",
    "def get_result_with_double_factor(factors, kd):\n",
    "    '''\n",
    "    factors:分组字段列表\n",
    "    kd:图表类型\n",
    "    '''\n",
    "    group_df = titanic_df.groupby(factors)['Survived']\n",
    "    survival_rate = get_statistics_result(group_df, ['survived','total','survival rate'])\n",
    "    plot_charting(survival_rate, kd, ' & '.join(factors) + ' Survival rate', '&'.join(factors), 'Survival rate', 1)"
   ]
  },
  {
   "cell_type": "markdown",
   "metadata": {},
   "source": [
    "### 三、数据分析\n",
    "#### 判断舱室等级对生存率的影响"
   ]
  },
  {
   "cell_type": "code",
   "execution_count": 22,
   "metadata": {},
   "outputs": [
    {
     "name": "stdout",
     "output_type": "stream",
     "text": [
      "        survived  total  survival rate\n",
      "Pclass                                \n",
      "1            120    184       0.652174\n",
      "2             83    173       0.479769\n",
      "3             85    355       0.239437\n"
     ]
    },
    {
     "data": {
      "image/png": "[encoded data removed]",
      "text/plain": [
       "<Figure size 432x288 with 1 Axes>"
      ]
     },
     "metadata": {},
     "output_type": "display_data"
    }
   ],
   "source": [
    "get_result_with_one_factor('Pclass', 'bar')"
   ]
  },
  {
   "cell_type": "markdown",
   "metadata": {},
   "source": [
    "分析：  \n",
    "    由上述数据可看出，一等舱乘客的生存率最高，其次是二等舱，最后是三等舱，且趋势显著，因此判定舱室等级可作为影响乘客生还率的一个因素。"
   ]
  },
  {
   "cell_type": "markdown",
   "metadata": {},
   "source": [
    "#### 判断性别对生存率的影响"
   ]
  },
  {
   "cell_type": "code",
   "execution_count": 23,
   "metadata": {},
   "outputs": [
    {
     "name": "stdout",
     "output_type": "stream",
     "text": [
      "        survived  total  survival rate\n",
      "Sex                                   \n",
      "female       195    259       0.752896\n",
      "male          93    453       0.205298\n"
     ]
    },
    {
     "data": {
      "image/png": "[encoded data removed]",
      "text/plain": [
       "<Figure size 432x288 with 1 Axes>"
      ]
     },
     "metadata": {},
     "output_type": "display_data"
    }
   ],
   "source": [
    "get_result_with_one_factor('Sex', 'pie')"
   ]
  },
  {
   "cell_type": "markdown",
   "metadata": {},
   "source": [
    "分析：  \n",
    "    从表中数据可看出，女性生还率大概为75%，男性生还率大概为20%，可见两者之间差距显著，因此性别也可作为衡量影响乘客生还率的一大因素。"
   ]
  },
  {
   "cell_type": "markdown",
   "metadata": {},
   "source": [
    "#### 判断年龄对生还率的影响"
   ]
  },
  {
   "cell_type": "code",
   "execution_count": 24,
   "metadata": {
    "scrolled": false
   },
   "outputs": [
    {
     "name": "stdout",
     "output_type": "stream",
     "text": [
      "          survived  total  survival rate\n",
      "Age_df                                  \n",
      "[0, 10)         38     62       0.612903\n",
      "[10, 20)        41    102       0.401961\n",
      "[20, 30)        77    220       0.350000\n",
      "[30, 40)        72    166       0.433735\n",
      "[40, 50)        34     89       0.382022\n",
      "[50, 60)        20     48       0.416667\n",
      "[60, 70)         5     18       0.277778\n",
      "[70, 80)         0      6       0.000000\n",
      "[80, 90)         1      1       1.000000\n"
     ]
    },
    {
     "data": {
      "image/png": "[encoded data removed]",
      "text/plain": [
       "<Figure size 432x288 with 1 Axes>"
      ]
     },
     "metadata": {},
     "output_type": "display_data"
    }
   ],
   "source": [
    "bins = np.arange(0,100,10)\n",
    "titanic_df['Age_df'] = pd.cut(titanic_df['Age'], bins, right=False)\n",
    "get_result_with_one_factor('Age_df', 'line')"
   ]
  },
  {
   "cell_type": "markdown",
   "metadata": {},
   "source": [
    "分析：  \n",
    "    从数据中可看出，80~90年龄段的生存率最高，为100%，但此年龄段只有一个人，属极端数据，不可作为评判依据；其次0~10岁间的乘客的生存率最高，高达60%，此外其他年龄段间的生存率并未存在明显差异。故年龄不可作为衡量影响乘客生存率的因素。"
   ]
  },
  {
   "cell_type": "markdown",
   "metadata": {},
   "source": [
    "#### 判断舱室级别以及性别的综合因素对生还率的影响"
   ]
  },
  {
   "cell_type": "code",
   "execution_count": 25,
   "metadata": {},
   "outputs": [
    {
     "name": "stdout",
     "output_type": "stream",
     "text": [
      "               survived  total  survival rate\n",
      "Pclass Sex                                   \n",
      "1      female        80     83       0.963855\n",
      "       male          40    101       0.396040\n",
      "2      female        68     74       0.918919\n",
      "       male          15     99       0.151515\n",
      "3      female        47    102       0.460784\n",
      "       male          38    253       0.150198\n"
     ]
    },
    {
     "data": {
      "image/png": "[encoded data removed]",
      "text/plain": [
       "<Figure size 432x288 with 1 Axes>"
      ]
     },
     "metadata": {},
     "output_type": "display_data"
    }
   ],
   "source": [
    "#双因素\n",
    "factors = list(['Pclass', 'Sex'])\n",
    "get_result_with_double_factor(factors, 'bar')"
   ]
  },
  {
   "cell_type": "markdown",
   "metadata": {},
   "source": [
    "分析：  \n",
    "    由图可得，一等舱的女性生还率大致为96%，二等舱的女性生还率大致为92%；而二等舱男性生还率大致为15%，三等舱的男性生还率大致也在15%。两组数据间差距并不明显，但又存在一趋势：仓位等级高的生还率越高。因此得出判断：乘客无论男女，随仓位等级的提高，乘客的生还率也越高。"
   ]
  },
  {
   "cell_type": "markdown",
   "metadata": {},
   "source": [
    "### 四、总结"
   ]
  },
  {
   "cell_type": "markdown",
   "metadata": {},
   "source": [
    "通过此前的分析，大致可得到几点结论：  \n",
    "* 乘客舱室等级越高级，乘客的生还率越高（与性别无关）\n",
    "* 女性乘客生还率远远高于男性乘客生还率\n",
    "* 0~10岁的儿童生还率最高\n",
    "   舱室级别越高级，代表着乘客的社会地位越高，在灾难发生时有更多的优先权。同时女性乘客及孩童有如此高的生还率，说明在当时事故发生后，船上人员有意识的让女士及儿童先行逃生。  \n",
    "   通过资料可知，泰坦尼克号上船员加上乘客共有2224人，而数据中只有891人，且对数据进行筛选后仅剩712条，由于不知道样本数据是否是随机选取的，故而无法断言此前结论具有代表性。"
   ]
  }
 ],
 "metadata": {
  "kernelspec": {
   "display_name": "Python 3",
   "language": "python",
   "name": "python3"
  },
  "language_info": {
   "codemirror_mode": {
    "name": "ipython",
    "version": 3
   },
   "file_extension": ".py",
   "mimetype": "text/x-python",
   "name": "python",
   "nbconvert_exporter": "python",
   "pygments_lexer": "ipython3",
   "version": "3.6.4"
  }
 },
 "nbformat": 4,
 "nbformat_minor": 2
}
