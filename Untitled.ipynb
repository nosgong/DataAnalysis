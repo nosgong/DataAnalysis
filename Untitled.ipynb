{
 "cells": [
  {
   "cell_type": "markdown",
   "metadata": {},
   "source": [
    "# 项目四-探索数据集\n",
    "### 选择数据集-泰坦尼克号数据"
   ]
  },
  {
   "cell_type": "markdown",
   "metadata": {},
   "source": [
    "#### 一、提出问题\n",
    "*有哪些因素会让船上的人生还率更高？*  \n",
    "舱位等级、性别、年龄等单一因素，或是多个因素共同影响  \n",
    "1.舱位等级是否影响乘客生还率  \n",
    "2.性别是否影响乘客生还率  \n",
    "3.年龄是否影响乘客生还率  \n",
    "4.同乘兄弟姐妹/配偶数是否影响乘客生还率  \n",
    "5.同乘父母/小孩数是否影响乘客生还率  \n",
    "6.船票价格是否影响乘客生还率  "
   ]
  },
  {
   "cell_type": "markdown",
   "metadata": {},
   "source": [
    "#### 二、数据加工"
   ]
  },
  {
   "cell_type": "code",
   "execution_count": 1,
   "metadata": {},
   "outputs": [],
   "source": [
    "#导入函数库\n",
    "import numpy as np\n",
    "import pandas as pd\n",
    "import matplotlib.pyplot as plt\n",
    "%matplotlib inline"
   ]
  },
  {
   "cell_type": "code",
   "execution_count": 2,
   "metadata": {},
   "outputs": [],
   "source": [
    "#文件导入\n",
    "titanic_df = pd.read_csv('titanic-data.csv')"
   ]
  },
  {
   "cell_type": "markdown",
   "metadata": {},
   "source": [
    ">数据检测"
   ]
  },
  {
   "cell_type": "code",
   "execution_count": 4,
   "metadata": {},
   "outputs": [
    {
     "data": {
      "text/html": [
       "<div>\n",
       "<style scoped>\n",
       "    .dataframe tbody tr th:only-of-type {\n",
       "        vertical-align: middle;\n",
       "    }\n",
       "\n",
       "    .dataframe tbody tr th {\n",
       "        vertical-align: top;\n",
       "    }\n",
       "\n",
       "    .dataframe thead th {\n",
       "        text-align: right;\n",
       "    }\n",
       "</style>\n",
       "<table border=\"1\" class=\"dataframe\">\n",
       "  <thead>\n",
       "    <tr style=\"text-align: right;\">\n",
       "      <th></th>\n",
       "      <th>PassengerId</th>\n",
       "      <th>Survived</th>\n",
       "      <th>Pclass</th>\n",
       "      <th>Name</th>\n",
       "      <th>Sex</th>\n",
       "      <th>Age</th>\n",
       "      <th>SibSp</th>\n",
       "      <th>Parch</th>\n",
       "      <th>Ticket</th>\n",
       "      <th>Fare</th>\n",
       "      <th>Cabin</th>\n",
       "      <th>Embarked</th>\n",
       "    </tr>\n",
       "  </thead>\n",
       "  <tbody>\n",
       "    <tr>\n",
       "      <th>0</th>\n",
       "      <td>1</td>\n",
       "      <td>0</td>\n",
       "      <td>3</td>\n",
       "      <td>Braund, Mr. Owen Harris</td>\n",
       "      <td>male</td>\n",
       "      <td>22.0</td>\n",
       "      <td>1</td>\n",
       "      <td>0</td>\n",
       "      <td>A/5 21171</td>\n",
       "      <td>7.2500</td>\n",
       "      <td>NaN</td>\n",
       "      <td>S</td>\n",
       "    </tr>\n",
       "    <tr>\n",
       "      <th>1</th>\n",
       "      <td>2</td>\n",
       "      <td>1</td>\n",
       "      <td>1</td>\n",
       "      <td>Cumings, Mrs. John Bradley (Florence Briggs Th...</td>\n",
       "      <td>female</td>\n",
       "      <td>38.0</td>\n",
       "      <td>1</td>\n",
       "      <td>0</td>\n",
       "      <td>PC 17599</td>\n",
       "      <td>71.2833</td>\n",
       "      <td>C85</td>\n",
       "      <td>C</td>\n",
       "    </tr>\n",
       "    <tr>\n",
       "      <th>2</th>\n",
       "      <td>3</td>\n",
       "      <td>1</td>\n",
       "      <td>3</td>\n",
       "      <td>Heikkinen, Miss. Laina</td>\n",
       "      <td>female</td>\n",
       "      <td>26.0</td>\n",
       "      <td>0</td>\n",
       "      <td>0</td>\n",
       "      <td>STON/O2. 3101282</td>\n",
       "      <td>7.9250</td>\n",
       "      <td>NaN</td>\n",
       "      <td>S</td>\n",
       "    </tr>\n",
       "    <tr>\n",
       "      <th>3</th>\n",
       "      <td>4</td>\n",
       "      <td>1</td>\n",
       "      <td>1</td>\n",
       "      <td>Futrelle, Mrs. Jacques Heath (Lily May Peel)</td>\n",
       "      <td>female</td>\n",
       "      <td>35.0</td>\n",
       "      <td>1</td>\n",
       "      <td>0</td>\n",
       "      <td>113803</td>\n",
       "      <td>53.1000</td>\n",
       "      <td>C123</td>\n",
       "      <td>S</td>\n",
       "    </tr>\n",
       "    <tr>\n",
       "      <th>4</th>\n",
       "      <td>5</td>\n",
       "      <td>0</td>\n",
       "      <td>3</td>\n",
       "      <td>Allen, Mr. William Henry</td>\n",
       "      <td>male</td>\n",
       "      <td>35.0</td>\n",
       "      <td>0</td>\n",
       "      <td>0</td>\n",
       "      <td>373450</td>\n",
       "      <td>8.0500</td>\n",
       "      <td>NaN</td>\n",
       "      <td>S</td>\n",
       "    </tr>\n",
       "  </tbody>\n",
       "</table>\n",
       "</div>"
      ],
      "text/plain": [
       "   PassengerId  Survived  Pclass  \\\n",
       "0            1         0       3   \n",
       "1            2         1       1   \n",
       "2            3         1       3   \n",
       "3            4         1       1   \n",
       "4            5         0       3   \n",
       "\n",
       "                                                Name     Sex   Age  SibSp  \\\n",
       "0                            Braund, Mr. Owen Harris    male  22.0      1   \n",
       "1  Cumings, Mrs. John Bradley (Florence Briggs Th...  female  38.0      1   \n",
       "2                             Heikkinen, Miss. Laina  female  26.0      0   \n",
       "3       Futrelle, Mrs. Jacques Heath (Lily May Peel)  female  35.0      1   \n",
       "4                           Allen, Mr. William Henry    male  35.0      0   \n",
       "\n",
       "   Parch            Ticket     Fare Cabin Embarked  \n",
       "0      0         A/5 21171   7.2500   NaN        S  \n",
       "1      0          PC 17599  71.2833   C85        C  \n",
       "2      0  STON/O2. 3101282   7.9250   NaN        S  \n",
       "3      0            113803  53.1000  C123        S  \n",
       "4      0            373450   8.0500   NaN        S  "
      ]
     },
     "execution_count": 4,
     "metadata": {},
     "output_type": "execute_result"
    }
   ],
   "source": [
    "titanic_df.head()"
   ]
  },
  {
   "cell_type": "code",
   "execution_count": 5,
   "metadata": {},
   "outputs": [
    {
     "name": "stdout",
     "output_type": "stream",
     "text": [
      "<class 'pandas.core.frame.DataFrame'>\n",
      "Int64Index: 712 entries, 0 to 890\n",
      "Data columns (total 12 columns):\n",
      "PassengerId    712 non-null int64\n",
      "Survived       712 non-null int64\n",
      "Pclass         712 non-null int64\n",
      "Name           712 non-null object\n",
      "Sex            712 non-null object\n",
      "Age            712 non-null float64\n",
      "SibSp          712 non-null int64\n",
      "Parch          712 non-null int64\n",
      "Ticket         712 non-null object\n",
      "Fare           712 non-null float64\n",
      "Cabin          183 non-null object\n",
      "Embarked       712 non-null object\n",
      "dtypes: float64(2), int64(5), object(5)\n",
      "memory usage: 72.3+ KB\n"
     ]
    }
   ],
   "source": [
    "titanic_df.dropna(subset=['Age', 'Embarked'], inplace=True)#剔除无效数据\n",
    "titanic_df.info()"
   ]
  },
  {
   "cell_type": "markdown",
   "metadata": {},
   "source": [
    ">数据处理"
   ]
  },
  {
   "cell_type": "code",
   "execution_count": 6,
   "metadata": {},
   "outputs": [
    {
     "name": "stdout",
     "output_type": "stream",
     "text": [
      "        survived  total  survival rate\n",
      "Pclass                                \n",
      "1            120    184       0.652174\n",
      "2             83    173       0.479769\n",
      "3             85    355       0.239437\n"
     ]
    },
    {
     "data": {
      "image/png": "[encoded data removed]",
      "text/plain": [
       "<Figure size 432x288 with 1 Axes>"
      ]
     },
     "metadata": {},
     "output_type": "display_data"
    }
   ],
   "source": [
    "#获取结果数据(单因素)\n",
    "def get_result_with_one_factor(factor):\n",
    "    #重组并去除无效数据\n",
    "    survived_df = titanic_df[[factor, 'Survived']]\n",
    "    #分组统计人数\n",
    "    group_df = survived_df.groupby(factor)\n",
    "    group_num = group_df.sum()\n",
    "    #总人数\n",
    "    all_num = group_df.count()\n",
    "    #存活率\n",
    "    survival_rate = group_num / all_num\n",
    "    #合并数据列表并输出\n",
    "    result = pd.concat([group_num, all_num, survival_rate], axis=1)\n",
    "    result.columns = ['survived','total','survival rate']\n",
    "    print(result)\n",
    "    #绘制图形\n",
    "    survival_rate.plot(kind='bar')\n",
    "    plt.title(factor + 'Survival rate')\n",
    "    plt.xlabel('factor-Pclass')\n",
    "    plt.ylabel('rate')\n",
    "    plt.show()\n",
    "get_result_with_one_factor('Pclass')"
   ]
  },
  {
   "cell_type": "code",
   "execution_count": 18,
   "metadata": {},
   "outputs": [
    {
     "name": "stdout",
     "output_type": "stream",
     "text": [
      "0      (20, 30]\n",
      "1      (30, 40]\n",
      "2      (20, 30]\n",
      "3      (30, 40]\n",
      "4      (30, 40]\n",
      "6      (50, 60]\n",
      "7       (0, 10]\n",
      "8      (20, 30]\n",
      "9      (10, 20]\n",
      "10      (0, 10]\n",
      "11     (50, 60]\n",
      "12     (10, 20]\n",
      "13     (30, 40]\n",
      "14     (10, 20]\n",
      "15     (50, 60]\n",
      "16      (0, 10]\n",
      "18     (30, 40]\n",
      "20     (30, 40]\n",
      "21     (30, 40]\n",
      "22     (10, 20]\n",
      "23     (20, 30]\n",
      "24      (0, 10]\n",
      "25     (30, 40]\n",
      "27     (10, 20]\n",
      "30     (30, 40]\n",
      "33     (60, 70]\n",
      "34     (20, 30]\n",
      "35     (40, 50]\n",
      "37     (20, 30]\n",
      "38     (10, 20]\n",
      "         ...   \n",
      "856    (40, 50]\n",
      "857    (50, 60]\n",
      "858    (20, 30]\n",
      "860    (40, 50]\n",
      "861    (20, 30]\n",
      "862    (40, 50]\n",
      "864    (20, 30]\n",
      "865    (40, 50]\n",
      "866    (20, 30]\n",
      "867    (30, 40]\n",
      "869     (0, 10]\n",
      "870    (20, 30]\n",
      "871    (40, 50]\n",
      "872    (30, 40]\n",
      "873    (40, 50]\n",
      "874    (20, 30]\n",
      "875    (10, 20]\n",
      "876    (10, 20]\n",
      "877    (10, 20]\n",
      "879    (50, 60]\n",
      "880    (20, 30]\n",
      "881    (30, 40]\n",
      "882    (20, 30]\n",
      "883    (20, 30]\n",
      "884    (20, 30]\n",
      "885    (30, 40]\n",
      "886    (20, 30]\n",
      "887    (10, 20]\n",
      "889    (20, 30]\n",
      "890    (30, 40]\n",
      "Name: Age, Length: 712, dtype: category\n",
      "Categories (8, interval[int64]): [(0, 10] < (10, 20] < (20, 30] < (30, 40] < (40, 50] < (50, 60] < (60, 70] < (70, 80]]\n"
     ]
    }
   ],
   "source": [
    "age_df = titanic_df['Age']\n",
    "bins=np.arange(0,90,10)\n",
    "print(pd.cut(age_df, bins, ))"
   ]
  },
  {
   "cell_type": "code",
   "execution_count": null,
   "metadata": {},
   "outputs": [],
   "source": []
  }
 ],
 "metadata": {
  "kernelspec": {
   "display_name": "Python 3",
   "language": "python",
   "name": "python3"
  },
  "language_info": {
   "codemirror_mode": {
    "name": "ipython",
    "version": 3
   },
   "file_extension": ".py",
   "mimetype": "text/x-python",
   "name": "python",
   "nbconvert_exporter": "python",
   "pygments_lexer": "ipython3",
   "version": "3.6.5"
  }
 },
 "nbformat": 4,
 "nbformat_minor": 2
}
